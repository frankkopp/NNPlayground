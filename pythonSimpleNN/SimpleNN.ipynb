{
 "cells": [
  {
   "cell_type": "code",
   "execution_count": 3,
   "metadata": {},
   "outputs": [],
   "source": [
    "import numpy as np\n",
    "\n",
    "alphas = [0.001,0.01,0.1,1,10,100,1000]\n",
    "hiddenSize = 32"
   ]
  },
  {
   "cell_type": "code",
   "execution_count": 4,
   "metadata": {},
   "outputs": [],
   "source": [
    "# compute sigmoid nonlinearity\n",
    "def sigmoid(x):\n",
    "    output = 1/(1+np.exp(-x))\n",
    "    return output\n",
    "\n",
    "# convert output of sigmoid function to its derivative\n",
    "def sigmoid_output_to_derivative(output):\n",
    "    return output*(1-output)"
   ]
  },
  {
   "cell_type": "code",
   "execution_count": 5,
   "metadata": {},
   "outputs": [],
   "source": [
    "X = np.array([[0,0,1],\n",
    "            [0,1,1],\n",
    "            [1,0,1],\n",
    "            [1,1,1]])\n",
    "                \n",
    "y = np.array([[0],\n",
    "              [1],\n",
    "              [1],\n",
    "              [0]])\n"
   ]
  },
  {
   "cell_type": "code",
   "execution_count": 12,
   "metadata": {},
   "outputs": [
    {
     "name": "stdout",
     "output_type": "stream",
     "text": [
      "\n",
      "Training With Alpha:0.001\n",
      "Error after 0 iterations:0.496439922501\n",
      "Error after 10000 iterations:0.491049468129\n",
      "Error after 20000 iterations:0.484976307027\n",
      "Error after 30000 iterations:0.477830678793\n",
      "Error after 40000 iterations:0.46903846539\n",
      "Error after 50000 iterations:0.458029258565\n",
      "\n",
      "Training With Alpha:0.01\n",
      "Error after 0 iterations:0.496439922501\n",
      "Error after 10000 iterations:0.356379061648\n",
      "Error after 20000 iterations:0.146939845465\n",
      "Error after 30000 iterations:0.0880156127416\n",
      "Error after 40000 iterations:0.065147819275\n",
      "Error after 50000 iterations:0.0529658087026\n",
      "\n",
      "Training With Alpha:0.1\n",
      "Error after 0 iterations:0.496439922501\n",
      "Error after 10000 iterations:0.0305404908386\n",
      "Error after 20000 iterations:0.0190638725334\n",
      "Error after 30000 iterations:0.0147643907296\n",
      "Error after 40000 iterations:0.0123892429905\n",
      "Error after 50000 iterations:0.0108421669738\n",
      "\n",
      "Training With Alpha:1\n",
      "Error after 0 iterations:0.496439922501\n",
      "Error after 10000 iterations:0.00736052234249\n",
      "Error after 20000 iterations:0.00497251705039\n",
      "Error after 30000 iterations:0.00396863978159\n",
      "Error after 40000 iterations:0.00338641021983\n",
      "Error after 50000 iterations:0.00299625684932\n",
      "\n",
      "Training With Alpha:10\n",
      "Error after 0 iterations:0.496439922501\n",
      "Error after 10000 iterations:0.00225453883964\n",
      "Error after 20000 iterations:0.0015372348629\n",
      "Error after 30000 iterations:0.0012343954371\n",
      "Error after 40000 iterations:0.00105807181739\n",
      "Error after 50000 iterations:0.000939536491871\n",
      "\n",
      "Training With Alpha:100\n",
      "Error after 0 iterations:0.496439922501\n",
      "Error after 10000 iterations:0.5\n",
      "Error after 20000 iterations:0.5\n",
      "Error after 30000 iterations:0.5\n",
      "Error after 40000 iterations:0.5\n",
      "Error after 50000 iterations:0.5\n",
      "\n",
      "Training With Alpha:1000\n",
      "Error after 0 iterations:0.496439922501\n",
      "Error after 10000 iterations:0.5\n",
      "Error after 20000 iterations:0.5\n",
      "Error after 30000 iterations:0.5\n",
      "Error after 40000 iterations:0.5\n",
      "Error after 50000 iterations:0.5\n"
     ]
    }
   ],
   "source": [
    "for alpha in alphas:\n",
    "    print (\"\\nTraining With Alpha:\" + str(alpha))\n",
    "    np.random.seed(1)\n",
    "\n",
    "    # randomly initialize our weights with mean 0\n",
    "    synapse_0 = 2*np.random.random((3,hiddenSize)) - 1\n",
    "    synapse_1 = 2*np.random.random((hiddenSize,1)) - 1\n",
    "    \n",
    "    for j in range(60000):\n",
    "\n",
    "        # Feed forward through layers 0, 1, and 2\n",
    "        layer_0 = X\n",
    "        layer_1 = sigmoid(np.dot(layer_0,synapse_0))\n",
    "        layer_2 = sigmoid(np.dot(layer_1,synapse_1))\n",
    "\n",
    "        # how much did we miss the target value?\n",
    "        layer_2_error = layer_2 - y\n",
    "\n",
    "        if (j% 10000) == 0:\n",
    "            print (\"Error after \" +str(j)+\" iterations:\" + str(np.mean(np.abs(layer_2_error))))\n",
    "\n",
    "        # in what direction is the target value?\n",
    "        # were we really sure? if so, don't change too much.\n",
    "        layer_2_delta = layer_2_error*sigmoid_output_to_derivative(layer_2)\n",
    "\n",
    "        # how much did each l1 value contribute to the l2 error (according to the weights)?\n",
    "        layer_1_error = layer_2_delta.dot(synapse_1.T)\n",
    "\n",
    "        # in what direction is the target l1?\n",
    "        # were we really sure? if so, don't change too much.\n",
    "        layer_1_delta = layer_1_error * sigmoid_output_to_derivative(layer_1)\n",
    "\n",
    "        synapse_1 -= alpha * (layer_1.T.dot(layer_2_delta))\n",
    "        synapse_0 -= alpha * (layer_0.T.dot(layer_1_delta))"
   ]
  },
  {
   "cell_type": "code",
   "execution_count": null,
   "metadata": {},
   "outputs": [],
   "source": []
  }
 ],
 "metadata": {
  "kernelspec": {
   "display_name": "Python 3",
   "language": "python",
   "name": "python3"
  },
  "language_info": {
   "codemirror_mode": {
    "name": "ipython",
    "version": 3
   },
   "file_extension": ".py",
   "mimetype": "text/x-python",
   "name": "python",
   "nbconvert_exporter": "python",
   "pygments_lexer": "ipython3",
   "version": "3.6.3"
  }
 },
 "nbformat": 4,
 "nbformat_minor": 2
}
